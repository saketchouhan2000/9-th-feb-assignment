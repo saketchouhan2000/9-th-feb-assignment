{
 "cells": [
  {
   "cell_type": "code",
   "execution_count": 2,
   "id": "423e059e-86b4-4f17-9c84-21b507c31675",
   "metadata": {},
   "outputs": [],
   "source": [
    "# Q1, Create a vehicle class with an init method having instance variables as name_of_vehicle, max_speed\n",
    "# and average_of_vehicle."
   ]
  },
  {
   "cell_type": "code",
   "execution_count": 6,
   "id": "83057772-beda-4feb-9cbb-c17e790c6bd7",
   "metadata": {},
   "outputs": [],
   "source": [
    "# Ans\n",
    "class vehicle:\n",
    "    def __init__ (self, name_of_vehicle, max_speed, average_of_vehicle):\n",
    "        self.name_of_vehicle= name_of_vehicle\n",
    "        self.max_speed= max_speed\n",
    "        self.average_of_vehicle=average_of_vehicle\n",
    "        \n",
    "    def vehicle(self):\n",
    "        return self.name_of_vehicle, self.max_speed, self.average_of_vehicle"
   ]
  },
  {
   "cell_type": "code",
   "execution_count": 7,
   "id": "49281498-b6f1-46b6-98e8-d106b6883c78",
   "metadata": {},
   "outputs": [],
   "source": [
    "maruti_car=vehicle(\"maruti485\", \"100km/h\", \"40km/l\")"
   ]
  },
  {
   "cell_type": "code",
   "execution_count": 9,
   "id": "e0486646-8a76-4a74-944f-4a5bca037bf3",
   "metadata": {},
   "outputs": [
    {
     "data": {
      "text/plain": [
       "('maruti485', '100km/h', '40km/l')"
      ]
     },
     "execution_count": 9,
     "metadata": {},
     "output_type": "execute_result"
    }
   ],
   "source": [
    "maruti_car.vehicle()"
   ]
  },
  {
   "cell_type": "code",
   "execution_count": 10,
   "id": "6d845559-2b28-4a41-914f-ca3c4293c5ed",
   "metadata": {},
   "outputs": [
    {
     "data": {
      "text/plain": [
       "'100km/h'"
      ]
     },
     "execution_count": 10,
     "metadata": {},
     "output_type": "execute_result"
    }
   ],
   "source": [
    "maruti_car.max_speed"
   ]
  },
  {
   "cell_type": "code",
   "execution_count": 11,
   "id": "85a263e5-deca-45e5-a078-85285dcd30d7",
   "metadata": {},
   "outputs": [],
   "source": [
    "# Q2. Create a child class car from the vehicle class created in Que 1, which will inherit the vehicle class.\n",
    "# Create a method named seating_capacity which takes capacity as an argument and returns the name of\n",
    "# the vehicle and its seating capacity."
   ]
  },
  {
   "cell_type": "code",
   "execution_count": 30,
   "id": "91032b12-28f1-4be5-ab52-3597b6347eb0",
   "metadata": {},
   "outputs": [],
   "source": [
    "# Ans\n",
    "class Car(vehicle):\n",
    "    def __init__(self, name_of_vehicle, max_speed, average_of_vehicle, capacity):\n",
    "        vehicle.__init__(self,name_of_vehicle, max_speed, average_of_vehicle)\n",
    "        self.capacity = capacity\n",
    "    \n",
    "    def seating_capacity(self):\n",
    "        return self.name_of_vehicle , self.capacity\n"
   ]
  },
  {
   "cell_type": "code",
   "execution_count": 31,
   "id": "5611e1c3-e99d-4655-ac9e-da7863ba87b1",
   "metadata": {},
   "outputs": [],
   "source": [
    "car1=Car(\"lambergini\", \"100km/h\", \"45/l\", \"5 People\")"
   ]
  },
  {
   "cell_type": "code",
   "execution_count": 32,
   "id": "99a8a89e-3336-448f-a892-21d9c60b67d6",
   "metadata": {},
   "outputs": [
    {
     "data": {
      "text/plain": [
       "('lambergini', '5 People')"
      ]
     },
     "execution_count": 32,
     "metadata": {},
     "output_type": "execute_result"
    }
   ],
   "source": [
    "car1.seating_capacity()"
   ]
  },
  {
   "cell_type": "code",
   "execution_count": 26,
   "id": "601d3de7-3c33-4c17-9dfd-0594b6d4a220",
   "metadata": {},
   "outputs": [],
   "source": [
    "# Q3. What is multiple inheritance? Write a python code to demonstrate multiple inheritance."
   ]
  },
  {
   "cell_type": "code",
   "execution_count": 43,
   "id": "3c0ac487-3fbe-4d03-9a1d-b49816c628e3",
   "metadata": {},
   "outputs": [],
   "source": [
    "# Ans Multiple inheritance means when we inherit the multiple parent class in child that called multiple inhertance.\n",
    "\n",
    "# Example"
   ]
  },
  {
   "cell_type": "code",
   "execution_count": 44,
   "id": "369b6643-c83b-451a-9d5d-9888e626125a",
   "metadata": {},
   "outputs": [],
   "source": [
    "class mobile_battery:\n",
    "    def __init__ (self, battery):\n",
    "        self.battery =battery\n",
    "        \n",
    "    def mobile_battery(self):\n",
    "        return self. battery\n",
    "    "
   ]
  },
  {
   "cell_type": "code",
   "execution_count": 45,
   "id": "7cfe40b5-8b38-469a-95e3-0042cb09fd19",
   "metadata": {},
   "outputs": [],
   "source": [
    "class mobile_storage:\n",
    "    def __init__ (self, storage):\n",
    "        self.storage=storage\n",
    "        \n",
    "    def mobile_storage(self):\n",
    "        return self.storage\n",
    "            "
   ]
  },
  {
   "cell_type": "code",
   "execution_count": 46,
   "id": "4f72f660-42cf-4616-859e-23b822f61f5e",
   "metadata": {},
   "outputs": [],
   "source": [
    "class mobile_feature(mobile_battery, mobile_storage):\n",
    "    def __init__(self, battery, storage, ram, camera):\n",
    "        mobile_battery.__init__(self, battery)\n",
    "        mobile_storage.__init__(self, storage)\n",
    "        self.ram=ram\n",
    "        self.camera=camera\n",
    "        \n",
    "        \n",
    "    def mobile_feature(self):\n",
    "        return self.ram, self. camera\n",
    "        "
   ]
  },
  {
   "cell_type": "code",
   "execution_count": 47,
   "id": "44cfcffe-1bc4-4fcb-b61a-6d04883ee378",
   "metadata": {},
   "outputs": [],
   "source": [
    "redmi=mobile_feature(\"redmi_9_prime\",\"4000mah\", \"4GB\", \"48MP\")"
   ]
  },
  {
   "cell_type": "code",
   "execution_count": 48,
   "id": "7060ebf6-c7a1-47d5-b275-10f68034260c",
   "metadata": {},
   "outputs": [
    {
     "data": {
      "text/plain": [
       "'redmi_9_prime'"
      ]
     },
     "execution_count": 48,
     "metadata": {},
     "output_type": "execute_result"
    }
   ],
   "source": [
    "redmi.mobile_battery()"
   ]
  },
  {
   "cell_type": "code",
   "execution_count": 51,
   "id": "e6dbe1e2-94b5-4bb2-a945-d04b60aa845e",
   "metadata": {},
   "outputs": [
    {
     "data": {
      "text/plain": [
       "('4GB', '48MP')"
      ]
     },
     "execution_count": 51,
     "metadata": {},
     "output_type": "execute_result"
    }
   ],
   "source": [
    "redmi.mobile_feature()"
   ]
  },
  {
   "cell_type": "code",
   "execution_count": 52,
   "id": "1305eb21-33eb-44ed-8c3f-4da0059c819a",
   "metadata": {},
   "outputs": [],
   "source": [
    "# Q4. What are getter and setter in python? Create a class and create a getter and a setter method in this\n",
    "# class."
   ]
  },
  {
   "cell_type": "code",
   "execution_count": 54,
   "id": "5b283194-9e23-49a2-bcae-c0df4051a17d",
   "metadata": {},
   "outputs": [],
   "source": [
    "# Ans  getter is give access in oop to get our value and setter give the access to change the value\n",
    "# of an object attrdeibutes\n",
    "# Example-"
   ]
  },
  {
   "cell_type": "code",
   "execution_count": 64,
   "id": "8059ca7e-baa8-4e5f-a398-85a43d397bdd",
   "metadata": {},
   "outputs": [],
   "source": [
    "class laptop :\n",
    "    def __init__(self, ram , hard_drive):\n",
    "        self.__ram=ram\n",
    "        self.__hard_drive=hard_drive\n",
    "        \n",
    "        \n",
    "    @property\n",
    "    def laptop_ram(self):\n",
    "        return self.ram\n",
    "    \n",
    "    @laptop_ram.setter\n",
    "    def laptop_ram_set(self, ram):\n",
    "        self.ram=ram\n",
    "        \n",
    "    @property\n",
    "    def laptop_hard_drive(self):\n",
    "        return self.hard_drive\n",
    "    \n",
    "    @laptop_hard_drive.setter\n",
    "    def laptop_hard_drive_set(self, hard_drive):\n",
    "        self.hard_drive=hard_drive\n",
    "        "
   ]
  },
  {
   "cell_type": "code",
   "execution_count": 65,
   "id": "0de909cb-268c-4143-ac6e-7c9365d0ea15",
   "metadata": {},
   "outputs": [],
   "source": [
    "lenovo=laptop(\"g4b\", \"1tb\")"
   ]
  },
  {
   "cell_type": "code",
   "execution_count": 66,
   "id": "26c08e96-6557-456d-951a-dde7dc7b7fb7",
   "metadata": {},
   "outputs": [],
   "source": [
    "lenovo.laptop_hard_drive_set=\"2tb\""
   ]
  },
  {
   "cell_type": "code",
   "execution_count": 67,
   "id": "0447112f-9fe5-4ee5-8c93-3f273237fc02",
   "metadata": {},
   "outputs": [
    {
     "data": {
      "text/plain": [
       "'2tb'"
      ]
     },
     "execution_count": 67,
     "metadata": {},
     "output_type": "execute_result"
    }
   ],
   "source": [
    "lenovo.laptop_hard_drive_set"
   ]
  },
  {
   "cell_type": "code",
   "execution_count": 70,
   "id": "6d63305a-70f4-4f99-8703-e6709c3dcabc",
   "metadata": {},
   "outputs": [],
   "source": [
    "# Q5.What is method overriding in python? Write a python code to demonstrate method overriding."
   ]
  },
  {
   "cell_type": "code",
   "execution_count": null,
   "id": "ede64ec6-c4bc-4580-84ee-0802e26d94e7",
   "metadata": {},
   "outputs": [],
   "source": [
    "# Ans  overriding is a v"
   ]
  },
  {
   "cell_type": "code",
   "execution_count": 72,
   "id": "5d2d8638-8222-449e-8269-d392413bb45d",
   "metadata": {},
   "outputs": [],
   "source": [
    "class Shape:\n",
    "    def area(self):\n",
    "        pass\n",
    "\n",
    "class Rectangle(Shape):\n",
    "    def __init__(self, width, height):\n",
    "        self.width = width\n",
    "        self.height = height\n",
    "        \n",
    "    def area(self):\n",
    "        return self.width * self.height\n",
    "\n",
    "class Circle(Shape):\n",
    "    def __init__(self, radius):\n",
    "        self.radius = radius\n",
    "        \n",
    "    def area(self):\n",
    "        return 3.14 * (self.radius ** 2)\n",
    "\n",
    "\n"
   ]
  },
  {
   "cell_type": "code",
   "execution_count": 73,
   "id": "f7362471-2c28-4597-a181-f8b2d5de9223",
   "metadata": {},
   "outputs": [],
   "source": [
    "rect = Rectangle(10, 20)"
   ]
  },
  {
   "cell_type": "code",
   "execution_count": 74,
   "id": "393c2182-88f2-4daa-ad0c-6e49d0ee20a3",
   "metadata": {},
   "outputs": [
    {
     "data": {
      "text/plain": [
       "200"
      ]
     },
     "execution_count": 74,
     "metadata": {},
     "output_type": "execute_result"
    }
   ],
   "source": [
    "rect.area()"
   ]
  },
  {
   "cell_type": "code",
   "execution_count": 75,
   "id": "860bec89-62dd-4925-921e-9d7627d8b4f1",
   "metadata": {},
   "outputs": [],
   "source": [
    "circ = Circle(5)"
   ]
  },
  {
   "cell_type": "code",
   "execution_count": 76,
   "id": "3e5a6dd6-332f-4752-b109-344feeeaadfb",
   "metadata": {},
   "outputs": [
    {
     "data": {
      "text/plain": [
       "78.5"
      ]
     },
     "execution_count": 76,
     "metadata": {},
     "output_type": "execute_result"
    }
   ],
   "source": [
    "circ.area()"
   ]
  },
  {
   "cell_type": "code",
   "execution_count": null,
   "id": "85e37b86-99b7-43d8-8b0d-32998bb3fc5a",
   "metadata": {},
   "outputs": [],
   "source": []
  }
 ],
 "metadata": {
  "kernelspec": {
   "display_name": "Python 3 (ipykernel)",
   "language": "python",
   "name": "python3"
  },
  "language_info": {
   "codemirror_mode": {
    "name": "ipython",
    "version": 3
   },
   "file_extension": ".py",
   "mimetype": "text/x-python",
   "name": "python",
   "nbconvert_exporter": "python",
   "pygments_lexer": "ipython3",
   "version": "3.10.8"
  }
 },
 "nbformat": 4,
 "nbformat_minor": 5
}
